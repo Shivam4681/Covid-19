{
 "cells": [
  {
   "cell_type": "markdown",
   "id": "8db0e14f",
   "metadata": {},
   "source": [
    "# 1.Understanding the Data:"
   ]
  },
  {
   "cell_type": "markdown",
   "id": "78eed5c2-2fe2-43de-9495-44faaf66998d",
   "metadata": {},
   "source": [
    "> Import necessary libraries (e.g., pandas, matplotlib, seaborn).\n",
    "\n",
    "> Load the COVID-19 dataset.\n",
    "\n",
    "> Display basic information about the dataset (e.g., data types, missing values)."
   ]
  },
  {
   "cell_type": "code",
   "execution_count": null,
   "id": "f474414d-36c8-4c98-a736-e104878244a0",
   "metadata": {},
   "outputs": [],
   "source": [
    "import pandas as pd\n",
    "import matplotlib.pyplot as plt\n",
    "import seaborn as sns"
   ]
  },
  {
   "cell_type": "code",
   "execution_count": null,
   "id": "47a81995-3c92-4034-bd2c-0acdde2411fc",
   "metadata": {},
   "outputs": [],
   "source": [
    "df = pd.read_csv('covid_19.csv')\n",
    "df"
   ]
  },
  {
   "cell_type": "code",
   "execution_count": null,
   "id": "29907eb3-67b7-458e-b622-d35dc79753f4",
   "metadata": {},
   "outputs": [],
   "source": [
    "df.info()"
   ]
  },
  {
   "cell_type": "markdown",
   "id": "7f1cd453-2cc2-47d9-b72b-09705fa7429f",
   "metadata": {},
   "source": [
    " "
   ]
  },
  {
   "cell_type": "markdown",
   "id": "0d242e69-d609-4f4c-bcff-bfb55a037ec4",
   "metadata": {},
   "source": [
    " "
   ]
  },
  {
   "cell_type": "markdown",
   "id": "5189d6f0",
   "metadata": {},
   "source": [
    "# 2. Data Cleaning:"
   ]
  },
  {
   "cell_type": "markdown",
   "id": "767ec175-7522-4cec-89c1-4676f64a2391",
   "metadata": {},
   "source": [
    "> Handle missing values\n",
    "\n",
    "> Convert data types if necessary ( ObservationDate    datetime64[ns]) change to datetime\n",
    "\n",
    "> Check for duplicates"
   ]
  },
  {
   "cell_type": "code",
   "execution_count": null,
   "id": "d07ac0e5-1497-4aa3-aa75-70709581babb",
   "metadata": {},
   "outputs": [],
   "source": [
    "df.isna().sum()"
   ]
  },
  {
   "cell_type": "code",
   "execution_count": null,
   "id": "c4badbd1-3846-4eb6-9844-4410b60e8497",
   "metadata": {},
   "outputs": [],
   "source": [
    "df.fillna(0, inplace=True)"
   ]
  },
  {
   "cell_type": "code",
   "execution_count": null,
   "id": "3eb44dd9-fb43-4c0c-88ad-6b1bb19d76f0",
   "metadata": {},
   "outputs": [],
   "source": [
    "df['ObservationDate'] = pd.to_datetime(df['ObservationDate'])"
   ]
  },
  {
   "cell_type": "code",
   "execution_count": null,
   "id": "d0d3eab9-2320-4d8e-9ac6-5f3608ff45ca",
   "metadata": {},
   "outputs": [],
   "source": [
    "print(\"Number of duplicates:\", df.duplicated().sum())"
   ]
  },
  {
   "cell_type": "markdown",
   "id": "8797df87-51a6-400e-a1ee-b0724b2c7f32",
   "metadata": {},
   "source": [
    " "
   ]
  },
  {
   "cell_type": "markdown",
   "id": "0dc86a63-780f-4219-b560-475e61271cad",
   "metadata": {},
   "source": [
    " "
   ]
  },
  {
   "cell_type": "markdown",
   "id": "004e0e00",
   "metadata": {},
   "source": [
    "# 3. Descriptive Statistics:"
   ]
  },
  {
   "cell_type": "markdown",
   "id": "bbed810e",
   "metadata": {},
   "source": [
    "> Generate descriptive statistics (mean, median, min, max) for numeric columns.\n",
    "\n",
    "> Explore summary statistics for categorical columns."
   ]
  },
  {
   "cell_type": "code",
   "execution_count": null,
   "id": "a732a218-63df-4b46-99d7-86e55b11fb51",
   "metadata": {},
   "outputs": [],
   "source": [
    "print(\"\\nDescriptive Statistics for Numeric Columns:\")\n",
    "df.describe()"
   ]
  },
  {
   "cell_type": "code",
   "execution_count": null,
   "id": "cbbc6a2d-aa1e-472d-840c-9b67ccb44ef8",
   "metadata": {},
   "outputs": [],
   "source": [
    "print(\"\\nSummary Statistics for Categorical Columns:\")\n",
    "df.describe(include=['object'])"
   ]
  },
  {
   "cell_type": "markdown",
   "id": "281b7cfb-346f-41a8-9b1c-de9f92cb86aa",
   "metadata": {},
   "source": [
    " "
   ]
  },
  {
   "cell_type": "markdown",
   "id": "1291cbca-ea6b-4032-8446-3ba08e440e30",
   "metadata": {},
   "source": [
    " "
   ]
  },
  {
   "cell_type": "markdown",
   "id": "39872389",
   "metadata": {},
   "source": [
    "# 4. Time Series Analysis:"
   ]
  },
  {
   "cell_type": "markdown",
   "id": "e2e355d2",
   "metadata": {},
   "source": [
    "> Analyze the trends in confirmed, deaths, and recovered cases over time.\n",
    "\n",
    "> Create time-based visualizations."
   ]
  },
  {
   "cell_type": "code",
   "execution_count": null,
   "id": "cd257be7-d491-43b3-9b4e-039fcee8c1a9",
   "metadata": {},
   "outputs": [],
   "source": [
    "df_time = df.groupby('ObservationDate').agg({'Confirmed': 'sum', 'Deaths': 'sum', 'Recovered': 'sum'})"
   ]
  },
  {
   "cell_type": "code",
   "execution_count": null,
   "id": "a7c0da1b-e1bd-4d62-a9ef-ff23639cd986",
   "metadata": {},
   "outputs": [],
   "source": [
    "plt.figure(figsize=(12, 6))\n",
    "sns.lineplot(data=df_time, x='ObservationDate', y='Confirmed', label='Confirmed')\n",
    "sns.lineplot(data=df_time, x='ObservationDate', y='Deaths', label='Deaths')\n",
    "sns.lineplot(data=df_time, x='ObservationDate', y='Recovered', label='Recovered')\n",
    "plt.title('COVID-19 Time Series Analysis')\n",
    "plt.xlabel('Date')\n",
    "plt.ylabel('Count')\n",
    "plt.show()"
   ]
  },
  {
   "cell_type": "markdown",
   "id": "ab36478c-f2b6-4e6f-b2f6-6e0e032ae829",
   "metadata": {},
   "source": [
    " "
   ]
  },
  {
   "cell_type": "markdown",
   "id": "100a676d-ef82-4236-adf1-decd367ea244",
   "metadata": {},
   "source": [
    " "
   ]
  },
  {
   "cell_type": "markdown",
   "id": "a7d087b3",
   "metadata": {},
   "source": [
    "# 5. Geographical Analysis:"
   ]
  },
  {
   "cell_type": "markdown",
   "id": "647f69a1",
   "metadata": {},
   "source": [
    "> Analyze the distribution of cases across different countries/regions.\n",
    "\n",
    "> Create geographical visualizations (e.g., world map)."
   ]
  },
  {
   "cell_type": "code",
   "execution_count": null,
   "id": "d9e71c13-7526-4ad6-ae9d-7ef8d5af9ce3",
   "metadata": {},
   "outputs": [],
   "source": [
    "df_country = df.groupby('Country/Region').agg({'Confirmed': 'sum', 'Deaths': 'sum', 'Recovered': 'sum'})"
   ]
  },
  {
   "cell_type": "code",
   "execution_count": null,
   "id": "18d1f1d4-5700-4f05-a42b-38c2bbaa888e",
   "metadata": {},
   "outputs": [],
   "source": [
    "plt.figure(figsize = (12,6))\n",
    "sns.barplot(x=df_country.index, y='Confirmed', data=df_country)\n",
    "plt.show()"
   ]
  },
  {
   "cell_type": "code",
   "execution_count": null,
   "id": "191fec80-c955-43f2-9307-6de9842e949f",
   "metadata": {},
   "outputs": [],
   "source": [
    "plt.figure(figsize = (12,6))\n",
    "sns.barplot(x=df_country.index, y='Deaths', data=df_country)\n",
    "plt.show()"
   ]
  },
  {
   "cell_type": "markdown",
   "id": "39eb466a-8a24-4dd4-99a4-5ddbef38b6bc",
   "metadata": {},
   "source": [
    " "
   ]
  },
  {
   "cell_type": "markdown",
   "id": "a8ce2906-724a-41b5-a9a6-6cc6cf9ddc5e",
   "metadata": {},
   "source": [
    " "
   ]
  },
  {
   "cell_type": "markdown",
   "id": "0271decc",
   "metadata": {},
   "source": [
    "# 6. Correlation Analysis:"
   ]
  },
  {
   "cell_type": "markdown",
   "id": "74cf06f2",
   "metadata": {},
   "source": [
    "> Correlation analysis between confirmed,deaths and recovered\n",
    "\n",
    "> Plot correlation on heat map"
   ]
  },
  {
   "cell_type": "code",
   "execution_count": null,
   "id": "cc9a9595-0605-4352-8a79-7a7b8cf7c89f",
   "metadata": {},
   "outputs": [],
   "source": [
    "correlation = df[['Confirmed', 'Deaths', 'Recovered']].corr()"
   ]
  },
  {
   "cell_type": "code",
   "execution_count": null,
   "id": "31dd5be5-248c-425d-bb57-288c4b61ca1a",
   "metadata": {},
   "outputs": [],
   "source": [
    "plt.figure(figsize=(12, 6))\n",
    "sns.heatmap(correlation, annot=True, cmap='coolwarm')\n",
    "plt.title('Correlation Between COVID-19 Variables')\n",
    "plt.show()"
   ]
  },
  {
   "cell_type": "markdown",
   "id": "06dbfeb9-69f2-475f-b0c6-c33782086a98",
   "metadata": {},
   "source": [
    " "
   ]
  },
  {
   "cell_type": "markdown",
   "id": "6e453f97-8f18-4f40-9d07-d6e9e9219b4f",
   "metadata": {},
   "source": [
    " "
   ]
  },
  {
   "cell_type": "markdown",
   "id": "31e692b2",
   "metadata": {},
   "source": [
    "# 7. Advanced Analysis:"
   ]
  },
  {
   "cell_type": "markdown",
   "id": "e8c818b9",
   "metadata": {},
   "source": [
    "> Calculate the total number of confirmed cases, deaths, and recoveries for each country/region.\n",
    "\n",
    "> Identify the countries/regions with the highest number of confirmed cases, deaths, and recoveries.\n",
    "\n",
    "> Visualize the distribution of deaths using bar chart"
   ]
  },
  {
   "cell_type": "code",
   "execution_count": null,
   "id": "bc0fe4db",
   "metadata": {},
   "outputs": [],
   "source": [
    "total_cases = df.groupby('Country/Region').agg({'Confirmed': 'sum', 'Deaths': 'sum', 'Recovered': 'sum'})\n",
    "total_cases"
   ]
  },
  {
   "cell_type": "code",
   "execution_count": null,
   "id": "6825f26e",
   "metadata": {},
   "outputs": [],
   "source": [
    "top_confirmed = total_cases.nlargest(10, 'Confirmed')\n",
    "top_deaths = total_cases.nlargest(10, 'Deaths')\n",
    "top_recovered = total_cases.nlargest(10, 'Recovered')"
   ]
  },
  {
   "cell_type": "code",
   "execution_count": null,
   "id": "3ebdf995",
   "metadata": {},
   "outputs": [],
   "source": [
    "plt.figure(figsize=(12, 6))\n",
    "top_deaths['Deaths'].plot(kind='bar')\n",
    "plt.xlabel('Country/Region')\n",
    "plt.ylabel('Number of Deaths')\n",
    "plt.title('Countries/Regions by Number of Deaths')\n",
    "plt.show()"
   ]
  }
 ],
 "metadata": {
  "kernelspec": {
   "display_name": "Python 3 (ipykernel)",
   "language": "python",
   "name": "python3"
  },
  "language_info": {
   "codemirror_mode": {
    "name": "ipython",
    "version": 3
   },
   "file_extension": ".py",
   "mimetype": "text/x-python",
   "name": "python",
   "nbconvert_exporter": "python",
   "pygments_lexer": "ipython3",
   "version": "3.12.1"
  }
 },
 "nbformat": 4,
 "nbformat_minor": 5
}
